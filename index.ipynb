{
 "cells": [
  {
   "cell_type": "markdown",
   "metadata": {},
   "source": [
    "# JupyterLab Demo\n",
    "\n",
    "This is a Jupyter notebook. The thing you are reading. A Jupyter notebook consists of blocks, called 'cells'. A cell can either be text (written in Markdown), or it can be code.\n",
    "\n",
    "The JupyterLab server will render the notebook as a web page that you can view in a web browser, like you are doing now.\n",
    "\n",
    "But there's more. The code in code cells can be edited, within the browser.\n",
    "\n",
    "But there's more. The code in code cells can not only be edited, it can be _executed_ as well. Right from within the web browser. Any output from the executed code will be displayed below the code cell.\n",
    "\n",
    "The whole page is treated as one program. It can be executed all in one go, but it is also possible to execute each code cell individually.\n",
    "\n",
    "The server can be setup to support most modern programming languages. Python, C# and SQL are all supported. This server is currently configured to support python.\n",
    "\n",
    "Try it out on the cells below.\n"
   ]
  },
  {
   "cell_type": "markdown",
   "metadata": {},
   "source": [
    "## Hello World\n",
    "\n",
    "Click the play icon below to run the following print statement."
   ]
  },
  {
   "cell_type": "code",
   "execution_count": null,
   "metadata": {},
   "outputs": [],
   "source": [
    "print(\"Hello world!\")\n"
   ]
  },
  {
   "cell_type": "markdown",
   "metadata": {},
   "source": [
    "## Hello Name\n",
    "\n",
    "That wasn't difficult. Lets try it with an simple interactive program. Run the code cell below."
   ]
  },
  {
   "cell_type": "code",
   "execution_count": null,
   "metadata": {},
   "outputs": [],
   "source": [
    "name = input(\"Please enter your name: \")\n",
    "\n",
    "print(\"Hello {}\".format(name))\n"
   ]
  },
  {
   "cell_type": "markdown",
   "metadata": {},
   "source": [
    "## Complete the Code\n",
    "\n",
    "The following code is incomplete. Fix the program, then run it to make sure it works correctly."
   ]
  },
  {
   "cell_type": "code",
   "execution_count": null,
   "metadata": {},
   "outputs": [],
   "source": [
    "# This program takes two numbers from the user, then calculates their sum.\n",
    "\n",
    "num1 = input(\"Enter the first number: \")\n",
    "num2 = input(\"Enter the second number: \")\n",
    "\n",
    "print(\"You entered {0} and {1}.\".format(num1, num2))\n",
    "print(\"Their sumation is: \")"
   ]
  }
 ],
 "metadata": {
  "language_info": {
   "codemirror_mode": {
    "name": "ipython",
    "version": 3
   },
   "file_extension": ".py",
   "mimetype": "text/x-python",
   "name": "python",
   "nbconvert_exporter": "python",
   "pygments_lexer": "ipython3",
   "version": 3
  },
  "orig_nbformat": 2
 },
 "nbformat": 4,
 "nbformat_minor": 2
}